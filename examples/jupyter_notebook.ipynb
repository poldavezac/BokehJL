{
 "cells": [
  {
   "cell_type": "code",
   "execution_count": 3,
   "id": "5bb59dbb",
   "metadata": {},
   "outputs": [
    {
     "name": "stderr",
     "output_type": "stream",
     "text": [
      "\u001b[32m\u001b[1m  Activating\u001b[22m\u001b[39m project at `~/code/Bokeh`\n",
      "┌ Info: Precompiling Bokeh [b7fe046f-2d24-4718-8c03-fdde6cae2a8c]\n",
      "└ @ Base loading.jl:1423\n"
     ]
    }
   ],
   "source": [
    "using Pkg\n",
    "Pkg.activate(\"/home/pdavezac/code/Bokeh\")\n",
    "using Bokeh"
   ]
  },
  {
   "cell_type": "code",
   "execution_count": 4,
   "id": "b3139972",
   "metadata": {},
   "outputs": [
    {
     "data": {
      "text/html": [
       "<script type=\"text/javascript\" src=\"http://127.0.0.1:5006/static/js/bokeh.min.js\"></script>\n",
       "<script type=\"text/javascript\" src=\"http://127.0.0.1:5006/static/js/bokeh-gl.min.js\"></script>\n",
       "<script type=\"text/javascript\" src=\"http://127.0.0.1:5006/static/js/bokeh-widgets.min.js\"></script>\n",
       "<script type=\"text/javascript\" src=\"http://127.0.0.1:5006/static/js/bokeh-tables.min.js\"></script>\n",
       "<script type=\"text/javascript\" src=\"http://127.0.0.1:5006/static/js/bokeh-mathjax.min.js\"></script><div class=\"bk-root\" id=\"b17083f4-fc65-412f-b3bf-8f7aa80830d3\" data-root-id=\"2001\"></div><script type=\"application/json\" id=\"95dce4af-ee0b-419f-b54b-2f4162524cf4\">[]</script><script type=\"text/javascript\" id=\"1c84befa-4bed-4e65-b406-a69dc9169d7c\">(function() {\n",
       "    const fn = function() { Bokeh.safely(function() { (function(root) {\n",
       "    function embed_document(root) { const docs_json = document.getElementById('95dce4af-ee0b-419f-b54b-2f4162524cf4').textContent;\n",
       "const render_items = [{\"token\":\"eyJzZXNzaW9uX2lkIjoiOTVkY2U0YWYtZWUwYi00MTlmLWI1NGItMmY0MTYyNTI0Y2Y0Iiwic2Vzc2lvbl9leHBpcnkiOjEuNjU3MDMwMTgzOTMxOTA1ZTl9\",\"roots\":{\"2001\":\"b17083f4-fc65-412f-b3bf-8f7aa80830d3\"},\"root_ids\":[\"2001\"],\"use_for_title\":false}];\n",
       "root.Bokeh.embed.embed_items(docs_json, render_items, \"/95dce4af-ee0b-419f-b54b-2f4162524cf4\", \"http://127.0.0.1:5006\");; }\n",
       "    if (root.Bokeh !== undefined) {\n",
       "        embed_document(root);\n",
       "    } else {\n",
       "        let attempts = 0;\n",
       "        const timer = setInterval(function(root) {\n",
       "                if (root.Bokeh !== undefined) {\n",
       "                    clearInterval(timer);\n",
       "                    embed_document(root);\n",
       "                } else {\n",
       "                    attempts++;\n",
       "                    if (attempts > 100) {\n",
       "                        clearInterval(timer);\n",
       "                        console.log(\"Bokeh: ERROR: Unable to run BokehJS code because BokehJS library is missing\");\n",
       "                    }\n",
       "                }\n",
       "            }, 10, root)\n",
       "    }\n",
       "})(window);; });; };\n",
       "    if (document.readyState != \"loading\") fn();\n",
       "    else document.addEventListener(\"DOMContentLoaded\", fn);\n",
       "})();</script>"
      ],
      "text/plain": [
       "Plot(id = 2001)"
      ]
     },
     "execution_count": 4,
     "metadata": {},
     "output_type": "execute_result"
    }
   ],
   "source": [
    "fig = Bokeh.scatter(; x= 1:10, y = rand(1:10, 10))"
   ]
  },
  {
   "cell_type": "code",
   "execution_count": null,
   "id": "88f78a9c",
   "metadata": {},
   "outputs": [],
   "source": [
    "Main.IJulia"
   ]
  }
 ],
 "metadata": {
  "kernelspec": {
   "display_name": "Julia 1.7.2",
   "language": "julia",
   "name": "julia-1.7"
  },
  "language_info": {
   "file_extension": ".jl",
   "mimetype": "application/julia",
   "name": "julia",
   "version": "1.7.2"
  }
 },
 "nbformat": 4,
 "nbformat_minor": 5
}
