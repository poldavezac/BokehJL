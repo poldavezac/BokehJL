{
 "cells": [
  {
   "cell_type": "code",
   "execution_count": null,
   "id": "5bb59dbb",
   "metadata": {},
   "outputs": [],
   "source": [
    "using Pkg\n",
    "Pkg.activate(joinpath(@__DIR__, \"..\"))\n",
    "using BokehJL\n",
    "BokehJL.Embeddings.notebook(port = 7788)"
   ]
  },
  {
   "cell_type": "code",
   "execution_count": null,
   "id": "b3139972",
   "metadata": {},
   "outputs": [],
   "source": [
    "FIG = BokehJL.line(; x = 1:10, y = 1:10)\n",
    "DATA = FIG.renderers[1].data_source\n",
    "BTN = let btn = BokehJL.Models.Button(; label = \"add a data point\")\n",
    "    BokehJL.onchange(btn) do evt::BokehJL.Models.Actions.ButtonClick\n",
    "        BokehJL.stream!(\n",
    "            DATA,\n",
    "            Dict(\"x\" => [length(DATA.data[\"x\"])+1], \"y\" => [rand(1:10)])\n",
    "        )\n",
    "    end\n",
    "    btn\n",
    "end\n",
    "BokehJL.layout([FIG, BTN])"
   ]
  },
  {
   "cell_type": "code",
   "execution_count": null,
   "id": "a2cf2bf1",
   "metadata": {},
   "outputs": [],
   "source": [
    "# add a data point\n",
    "BokehJL.stream!(DATA, Dict(\"x\" => [length(DATA.data[\"x\"])+1], \"y\" => [rand(1:10)]));"
   ]
  }
 ],
 "metadata": {
  "kernelspec": {
   "display_name": "Julia 1.7.2",
   "language": "julia",
   "name": "julia-1.7"
  },
  "language_info": {
   "file_extension": ".jl",
   "mimetype": "application/julia",
   "name": "julia",
   "version": "1.7.2"
  }
 },
 "nbformat": 4,
 "nbformat_minor": 5
}
