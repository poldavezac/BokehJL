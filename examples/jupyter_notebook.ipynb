{
 "cells": [
  {
   "cell_type": "code",
   "execution_count": null,
   "id": "5bb59dbb",
   "metadata": {},
   "outputs": [],
   "source": [
    "using Pkg\n",
    "Pkg.activate(joinpath(@__DIR__, \"..\"))\n",
    "using BokehJL\n",
    "BokehJL.Embeddings.notebook(port = 7788)"
   ]
  },
  {
   "cell_type": "code",
   "execution_count": null,
   "id": "b3139972",
   "metadata": {},
   "outputs": [],
   "source": [
    "\"A simple plot\"\n",
    "FIG = BokehJL.line(; x = 1:10, y = 1:10)\n",
    "\n",
    "\"The data source used by the plot\"\n",
    "DATA = FIG.renderers[1].data_source\n",
    "\n",
    "\"A button which adds a datapoint when clicked\"\n",
    "BTN = let btn = BokehJL.Button(; label = \"add a data point\")\n",
    "\n",
    "    # Note that the `onchange` call only reacts to `ButtonClick` events\n",
    "    BokehJL.onchange(btn) do evt::BokehJL.ButtonClick\n",
    "        BokehJL.stream!(\n",
    "            DATA,\n",
    "            Dict(\"x\" => [length(DATA.data[\"x\"])+1], \"y\" => [rand(1:10)])\n",
    "        )\n",
    "    end\n",
    "    btn\n",
    "end\n",
    "\n",
    "\"A display with both the plot and the button\"\n",
    "BokehJL.layout([FIG, BTN])"
   ]
  },
  {
   "cell_type": "code",
   "execution_count": null,
   "id": "a2cf2bf1",
   "metadata": {},
   "outputs": [],
   "source": [
    "# add a data point\n",
    "BokehJL.stream!(DATA, Dict(\"x\" => [length(DATA.data[\"x\"])+1], \"y\" => [rand(1:10)]));"
   ]
  }
 ],
 "metadata": {
  "kernelspec": {
   "display_name": "Julia 1.7.2",
   "language": "julia",
   "name": "julia-1.7"
  },
  "language_info": {
   "file_extension": ".jl",
   "mimetype": "application/julia",
   "name": "julia",
   "version": "1.7.2"
  }
 },
 "nbformat": 4,
 "nbformat_minor": 5
}
