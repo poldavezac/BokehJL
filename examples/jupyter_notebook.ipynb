{
 "cells": [
  {
   "cell_type": "code",
   "execution_count": null,
   "id": "5bb59dbb",
   "metadata": {},
   "outputs": [],
   "source": [
    "using Pkg\n",
    "Pkg.activate(\"/home/pdavezac/code/BokehJL\")\n",
    "using BokehJL\n",
    "BokehJL.Embeddings.notebook()"
   ]
  },
  {
   "cell_type": "code",
   "execution_count": null,
   "id": "b3139972",
   "metadata": {},
   "outputs": [],
   "source": [
    "fig = BokehJL.scatter(; x= 1. : 10., y = rand(1. : 10., 10))"
   ]
  },
  {
   "cell_type": "code",
   "execution_count": null,
   "id": "a2cf2bf1",
   "metadata": {},
   "outputs": [],
   "source": [
    "push!(fig.renderers[1].data_source, Dict(\"x\" => rand(1. : 0.001:10., 10), \"y\" =>rand(1. : 0.001 : 10., 10)))"
   ]
  },
  {
   "cell_type": "code",
   "execution_count": null,
   "id": "22cf986e",
   "metadata": {},
   "outputs": [],
   "source": [
    "fig.renderers[1].data_source"
   ]
  }
 ],
 "metadata": {
  "kernelspec": {
   "display_name": "Julia 1.7.2",
   "language": "julia",
   "name": "julia-1.7"
  },
  "language_info": {
   "file_extension": ".jl",
   "mimetype": "application/julia",
   "name": "julia",
   "version": "1.7.2"
  }
 },
 "nbformat": 4,
 "nbformat_minor": 5
}
